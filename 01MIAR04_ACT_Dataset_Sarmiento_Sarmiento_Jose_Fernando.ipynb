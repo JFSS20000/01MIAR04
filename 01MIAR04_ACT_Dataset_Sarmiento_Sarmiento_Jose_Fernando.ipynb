{
  "nbformat": 4,
  "nbformat_minor": 0,
  "metadata": {
    "colab": {
      "provenance": [],
      "authorship_tag": "ABX9TyPTN0XDq9dJ2/5Z5b7gVoTG",
      "include_colab_link": true
    },
    "kernelspec": {
      "name": "python3",
      "display_name": "Python 3"
    },
    "language_info": {
      "name": "python"
    }
  },
  "cells": [
    {
      "cell_type": "markdown",
      "metadata": {
        "id": "view-in-github",
        "colab_type": "text"
      },
      "source": [
        "<a href=\"https://colab.research.google.com/github/JFSS20000/01MIAR04/blob/main/01MIAR04_ACT_Dataset_Sarmiento_Sarmiento_Jose_Fernando.ipynb\" target=\"_parent\"><img src=\"https://colab.research.google.com/assets/colab-badge.svg\" alt=\"Open In Colab\"/></a>"
      ]
    },
    {
      "cell_type": "markdown",
      "source": [
        "# Análisis de Evolución de Popularidad de Lenguajes de Programación\n",
        "\n",
        "---\n",
        "\n",
        "### **José Fernando Sarmiento Sarmiento**\n",
        "\n",
        "**Curso:** 01MIAR_04_A_2025-26_Python para la Inteligencia Artificial\n",
        "\n",
        "**Tema:** Trabajo de análisis y uso de datasets\n",
        "\n",
        "**Universidad:** Universidad Internacional de Valencia (VIU)\n",
        "\n",
        "**Año:** 2025-2026\n",
        "\n",
        "\n",
        "---\n",
        "\n"
      ],
      "metadata": {
        "id": "D3sypz4O9ozo"
      }
    },
    {
      "cell_type": "markdown",
      "source": [
        "# 📚 Índice\n",
        "\n",
        "1. [Introducción](#introduccion)\n",
        "2. [Librerías Necesarias](#librerias-necesarias)\n",
        "3. [DataSet Principal](#dataset-principal)\n",
        "4. [Análisis Estadístico](#analisis-estadistico)\n",
        "5. [Comparativa de Lenguajes cada 5 años](#comparativa-de-lenguajes-cada-5-años)\n",
        "6. [Conclusiones](#conclusiones)\n",
        "7. [Referencias](#referencias)\n",
        "\n",
        "---"
      ],
      "metadata": {
        "id": "HV2sXmL4E63Q"
      }
    },
    {
      "cell_type": "markdown",
      "source": [
        "## Introducción"
      ],
      "metadata": {
        "id": "iAL9NgqNKdPJ"
      }
    },
    {
      "cell_type": "markdown",
      "source": [
        "ss"
      ],
      "metadata": {
        "id": "xJikPZkeKre3"
      }
    },
    {
      "cell_type": "markdown",
      "source": [
        "## Librerías Necesarias\n",
        "Las siguientes librerías de Python son esenciales para el análisis de este trabajo:"
      ],
      "metadata": {
        "id": "j88eOyNKKgMv"
      }
    },
    {
      "cell_type": "code",
      "source": [
        "import pandas as pd\n",
        "import numpy as np\n",
        "import matplotlib.pyplot as plt\n",
        "import seaborn as sns"
      ],
      "metadata": {
        "id": "DYLXDBOSKpkX"
      },
      "execution_count": null,
      "outputs": []
    },
    {
      "cell_type": "markdown",
      "source": [
        "## DataSet Principal\n",
        "Se describe el origen y la estructura del conjunto de datos utilizado."
      ],
      "metadata": {
        "id": "U5FuMsGvKu13"
      }
    },
    {
      "cell_type": "code",
      "source": [
        "#"
      ],
      "metadata": {
        "id": "dY143NgRKxlT"
      },
      "execution_count": null,
      "outputs": []
    },
    {
      "cell_type": "markdown",
      "source": [
        "## Análisis Estadístico\n",
        "Esta sección presenta el resumen de las métricas clave y la exploración de datos (EDA)."
      ],
      "metadata": {
        "id": "xJWqYkvbK1ks"
      }
    },
    {
      "cell_type": "code",
      "source": [
        "##"
      ],
      "metadata": {
        "id": "VxPAqcJhK8Yk"
      },
      "execution_count": null,
      "outputs": []
    },
    {
      "cell_type": "markdown",
      "source": [
        "## Comparativa de Lenguajes cada 5 años\n",
        "Visualización y discusión de las tendencias de popularidad."
      ],
      "metadata": {
        "id": "5hsHSbBuK-Nb"
      }
    },
    {
      "cell_type": "code",
      "source": [
        "#"
      ],
      "metadata": {
        "id": "-pVmXVGfLApz"
      },
      "execution_count": null,
      "outputs": []
    },
    {
      "cell_type": "markdown",
      "source": [
        "## Conclusiones\n",
        "Resumen de los hallazgos más importantes del trabajo."
      ],
      "metadata": {
        "id": "-G1_eM6bLBqL"
      }
    },
    {
      "cell_type": "code",
      "source": [
        "#"
      ],
      "metadata": {
        "id": "q5P6-eQCLGIF"
      },
      "execution_count": null,
      "outputs": []
    },
    {
      "cell_type": "markdown",
      "source": [
        "## Referencias\n",
        "Listado de fuentes citadas en el proyecto (formato APA, Vancouver, etc.)."
      ],
      "metadata": {
        "id": "3WDFPhiILHLS"
      }
    }
  ]
}